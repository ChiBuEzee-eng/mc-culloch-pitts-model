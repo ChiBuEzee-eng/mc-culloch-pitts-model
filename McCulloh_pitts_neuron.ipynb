{
  "nbformat": 4,
  "nbformat_minor": 0,
  "metadata": {
    "colab": {
      "provenance": [],
      "authorship_tag": "ABX9TyPYuuvbBA0jlVuYX0au2WGl",
      "include_colab_link": true
    },
    "kernelspec": {
      "name": "python3",
      "display_name": "Python 3"
    },
    "language_info": {
      "name": "python"
    }
  },
  "cells": [
    {
      "cell_type": "markdown",
      "metadata": {
        "id": "view-in-github",
        "colab_type": "text"
      },
      "source": [
        "<a href=\"https://colab.research.google.com/github/ChiBuEzee-eng/mc-culloch-pitts-model/blob/main/McCulloh_pitts_neuron.ipynb\" target=\"_parent\"><img src=\"https://colab.research.google.com/assets/colab-badge.svg\" alt=\"Open In Colab\"/></a>"
      ]
    },
    {
      "cell_type": "code",
      "source": [
        "#Importing necessary libraries\n",
        "import numpy as np\n",
        "import tensorflow as tf\n",
        "#Defining mcculloh_pits_neuron\n",
        "def mcculloh_pits_neuron(inputs, weights, threshold):\n",
        "    weighted_sum = tf.reduce_sum(inputs * weights)\n",
        "    if weighted_sum >= threshold:\n",
        "        return 1.0\n",
        "    else:\n",
        "        return 0.0\n",
        "\n",
        "#Creating our data\n",
        "X = np.array([[0, 0], [0, 1], [1, 0], [1, 1]], dtype=np.float32)\n",
        "y = np.array([0, 0, 0, 1], dtype=np.float32)\n",
        "\n",
        "#initialise weights and threshold\n",
        "weights = tf.constant([0.5, 0.5], dtype=tf.float32)\n",
        "threshold = tf.constant(0.7, dtype=tf.float32)\n",
        "\n",
        "#Training process: Adjust weights manually for simplicity\n",
        "learning_rate = 0.1\n",
        "epochs = 10\n",
        "\n",
        "for epoch in range(epochs):\n",
        "    print(f\"Epoch {epoch + 1}\")\n",
        "    for inputs, expected_output in zip(X, y):\n",
        "\n",
        "    #Get the current prediction from the neuron\n",
        "        prediction = mcculloh_pitts_neuron(inputs, weights, threshold)\n",
        "    #Calculate the error\n",
        "        error = expected_output - prediction\n",
        "    #Update the weights\n",
        "        weights += learning_rate * error * inputs\n",
        "        print(f\"inputs:{inputs}, prediction:{prediction}, Error:{error}, Updated_Weights:{weights.numpy()}\")\n",
        "print(\"\\n Training Completed\\n\")"
      ],
      "metadata": {
        "colab": {
          "base_uri": "https://localhost:8080/"
        },
        "id": "4MQ8dZB5FCZJ",
        "outputId": "1c5631db-ea03-471f-94ad-887455807b42"
      },
      "execution_count": null,
      "outputs": [
        {
          "output_type": "stream",
          "name": "stdout",
          "text": [
            "Epoch 1\n",
            "inputs:[0. 0.], prediction:0.0, Error:0.0, Updated_Weights:[0.5 0.5]\n",
            "inputs:[0. 1.], prediction:0.0, Error:0.0, Updated_Weights:[0.5 0.5]\n",
            "inputs:[1. 0.], prediction:0.0, Error:0.0, Updated_Weights:[0.5 0.5]\n",
            "inputs:[1. 1.], prediction:1.0, Error:0.0, Updated_Weights:[0.5 0.5]\n",
            "Epoch 2\n",
            "inputs:[0. 0.], prediction:0.0, Error:0.0, Updated_Weights:[0.5 0.5]\n",
            "inputs:[0. 1.], prediction:0.0, Error:0.0, Updated_Weights:[0.5 0.5]\n",
            "inputs:[1. 0.], prediction:0.0, Error:0.0, Updated_Weights:[0.5 0.5]\n",
            "inputs:[1. 1.], prediction:1.0, Error:0.0, Updated_Weights:[0.5 0.5]\n",
            "Epoch 3\n",
            "inputs:[0. 0.], prediction:0.0, Error:0.0, Updated_Weights:[0.5 0.5]\n",
            "inputs:[0. 1.], prediction:0.0, Error:0.0, Updated_Weights:[0.5 0.5]\n",
            "inputs:[1. 0.], prediction:0.0, Error:0.0, Updated_Weights:[0.5 0.5]\n",
            "inputs:[1. 1.], prediction:1.0, Error:0.0, Updated_Weights:[0.5 0.5]\n",
            "Epoch 4\n",
            "inputs:[0. 0.], prediction:0.0, Error:0.0, Updated_Weights:[0.5 0.5]\n",
            "inputs:[0. 1.], prediction:0.0, Error:0.0, Updated_Weights:[0.5 0.5]\n",
            "inputs:[1. 0.], prediction:0.0, Error:0.0, Updated_Weights:[0.5 0.5]\n",
            "inputs:[1. 1.], prediction:1.0, Error:0.0, Updated_Weights:[0.5 0.5]\n",
            "Epoch 5\n",
            "inputs:[0. 0.], prediction:0.0, Error:0.0, Updated_Weights:[0.5 0.5]\n",
            "inputs:[0. 1.], prediction:0.0, Error:0.0, Updated_Weights:[0.5 0.5]\n",
            "inputs:[1. 0.], prediction:0.0, Error:0.0, Updated_Weights:[0.5 0.5]\n",
            "inputs:[1. 1.], prediction:1.0, Error:0.0, Updated_Weights:[0.5 0.5]\n",
            "Epoch 6\n",
            "inputs:[0. 0.], prediction:0.0, Error:0.0, Updated_Weights:[0.5 0.5]\n",
            "inputs:[0. 1.], prediction:0.0, Error:0.0, Updated_Weights:[0.5 0.5]\n",
            "inputs:[1. 0.], prediction:0.0, Error:0.0, Updated_Weights:[0.5 0.5]\n",
            "inputs:[1. 1.], prediction:1.0, Error:0.0, Updated_Weights:[0.5 0.5]\n",
            "Epoch 7\n",
            "inputs:[0. 0.], prediction:0.0, Error:0.0, Updated_Weights:[0.5 0.5]\n",
            "inputs:[0. 1.], prediction:0.0, Error:0.0, Updated_Weights:[0.5 0.5]\n",
            "inputs:[1. 0.], prediction:0.0, Error:0.0, Updated_Weights:[0.5 0.5]\n",
            "inputs:[1. 1.], prediction:1.0, Error:0.0, Updated_Weights:[0.5 0.5]\n",
            "Epoch 8\n",
            "inputs:[0. 0.], prediction:0.0, Error:0.0, Updated_Weights:[0.5 0.5]\n",
            "inputs:[0. 1.], prediction:0.0, Error:0.0, Updated_Weights:[0.5 0.5]\n",
            "inputs:[1. 0.], prediction:0.0, Error:0.0, Updated_Weights:[0.5 0.5]\n",
            "inputs:[1. 1.], prediction:1.0, Error:0.0, Updated_Weights:[0.5 0.5]\n",
            "Epoch 9\n",
            "inputs:[0. 0.], prediction:0.0, Error:0.0, Updated_Weights:[0.5 0.5]\n",
            "inputs:[0. 1.], prediction:0.0, Error:0.0, Updated_Weights:[0.5 0.5]\n",
            "inputs:[1. 0.], prediction:0.0, Error:0.0, Updated_Weights:[0.5 0.5]\n",
            "inputs:[1. 1.], prediction:1.0, Error:0.0, Updated_Weights:[0.5 0.5]\n",
            "Epoch 10\n",
            "inputs:[0. 0.], prediction:0.0, Error:0.0, Updated_Weights:[0.5 0.5]\n",
            "inputs:[0. 1.], prediction:0.0, Error:0.0, Updated_Weights:[0.5 0.5]\n",
            "inputs:[1. 0.], prediction:0.0, Error:0.0, Updated_Weights:[0.5 0.5]\n",
            "inputs:[1. 1.], prediction:1.0, Error:0.0, Updated_Weights:[0.5 0.5]\n",
            "\n",
            " Training Completed\n",
            "\n"
          ]
        }
      ]
    },
    {
      "cell_type": "code",
      "source": [
        "test_inputs = np.array([0,1], dtype=np.float32)\n",
        "output = mcculloh_pits_neuron(test_inputs, weights, threshold)\n",
        "print(f\"Test Input: {test_inputs}, Output: {output}\")"
      ],
      "metadata": {
        "colab": {
          "base_uri": "https://localhost:8080/"
        },
        "id": "UnbU6eEzDTar",
        "outputId": "13842190-dca6-4218-d85b-5390a0edf941"
      },
      "execution_count": null,
      "outputs": [
        {
          "output_type": "stream",
          "name": "stdout",
          "text": [
            "Test Input: [0. 1.], Output: 0.0\n"
          ]
        }
      ]
    },
    {
      "cell_type": "code",
      "source": [
        "test_inputs = np.array([1,1], dtype=np.float32)\n",
        "output = mcculloh_pits_neuron(test_inputs, weights, threshold)\n",
        "print(f\"Test Input: {test_inputs}, Output: {output}\")"
      ],
      "metadata": {
        "colab": {
          "base_uri": "https://localhost:8080/"
        },
        "id": "Kb9fygkhGTO3",
        "outputId": "b06092db-7c3a-45a1-c0dd-537391be3c0e"
      },
      "execution_count": null,
      "outputs": [
        {
          "output_type": "stream",
          "name": "stdout",
          "text": [
            "Test Input: [1. 1.], Output: 1.0\n"
          ]
        }
      ]
    },
    {
      "cell_type": "code",
      "source": [],
      "metadata": {
        "id": "BdMu2BVNH4ld"
      },
      "execution_count": null,
      "outputs": []
    }
  ]
}